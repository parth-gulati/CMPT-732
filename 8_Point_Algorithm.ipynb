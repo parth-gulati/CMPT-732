{
  "nbformat": 4,
  "nbformat_minor": 0,
  "metadata": {
    "colab": {
      "provenance": [],
      "authorship_tag": "ABX9TyOX7fMtKdRpq+23jsizjpVY",
      "include_colab_link": true
    },
    "kernelspec": {
      "name": "python3",
      "display_name": "Python 3"
    },
    "language_info": {
      "name": "python"
    }
  },
  "cells": [
    {
      "cell_type": "markdown",
      "metadata": {
        "id": "view-in-github",
        "colab_type": "text"
      },
      "source": [
        "<a href=\"https://colab.research.google.com/github/parth-gulati/CMPT-732/blob/main/8_Point_Algorithm.ipynb\" target=\"_parent\"><img src=\"https://colab.research.google.com/assets/colab-badge.svg\" alt=\"Open In Colab\"/></a>"
      ]
    },
    {
      "cell_type": "code",
      "execution_count": 7,
      "metadata": {
        "id": "XN5iKDs2DwTE"
      },
      "outputs": [],
      "source": [
        "import numpy as np\n",
        "import cv2\n",
        "from PIL import Image\n",
        "import matplotlib.pyplot as plt\n",
        "import os"
      ]
    },
    {
      "cell_type": "code",
      "source": [
        "def find_matching_keypoints(image1, image2):\n",
        "    #Input: two images (numpy arrays)\n",
        "    #Output: two lists of corresponding keypoints (numpy arrays of shape (N, 2))\n",
        "    sift = cv2.SIFT_create()\n",
        "    kp1, desc1 = sift.detectAndCompute(image1, None)\n",
        "    kp2, desc2 = sift.detectAndCompute(image2, None)\n",
        "\n",
        "    FLANN_INDEX_KDTREE = 0\n",
        "    index_params = dict(algorithm=FLANN_INDEX_KDTREE, trees=5)\n",
        "    search_params = dict(checks=50)\n",
        "\n",
        "    flann = cv2.FlannBasedMatcher(index_params, search_params)\n",
        "    matches = flann.knnMatch(desc1, desc2, k=2)\n",
        "\n",
        "    good = []\n",
        "    pts1 = []\n",
        "    pts2 = []\n",
        "    for i, (m, n) in enumerate(matches):\n",
        "        if m.distance < 0.8 * n.distance:\n",
        "            good.append(m)\n",
        "            pts2.append(kp2[m.trainIdx].pt)\n",
        "            pts1.append(kp1[m.queryIdx].pt)\n",
        "\n",
        "    pts1 = np.int32(pts1)\n",
        "    pts2 = np.int32(pts2)\n",
        "    return pts1, pts2"
      ],
      "metadata": {
        "id": "YWmxtkpnKfbT"
      },
      "execution_count": 8,
      "outputs": []
    },
    {
      "cell_type": "code",
      "source": [
        "def drawlines(img1,img2,lines,pts1,pts2):\n",
        "    #img1: image on which we draw the epilines for the points in img2\n",
        "    #lines: corresponding epilines\n",
        "    r,c = img1.shape\n",
        "    img1 = cv2.cvtColor(img1,cv2.COLOR_GRAY2BGR)\n",
        "    img2 = cv2.cvtColor(img2,cv2.COLOR_GRAY2BGR)\n",
        "    for r,pt1,pt2 in zip(lines,pts1,pts2):\n",
        "        color = tuple(np.random.randint(0,255,3).tolist())\n",
        "        x0,y0 = map(int, [0, -r[2]/r[1] ])\n",
        "        x1,y1 = map(int, [c, -(r[2]+r[0]*c)/r[1] ])\n",
        "        img1 = cv2.line(img1, (x0,y0), (x1,y1), color,1)\n",
        "        img1 = cv2.circle(img1,tuple(pt1),5,color,-1)\n",
        "        img2 = cv2.circle(img2,tuple(pt2),5,color,-1)\n",
        "    return img1,img2"
      ],
      "metadata": {
        "id": "6YXNOQ__Ki9E"
      },
      "execution_count": 9,
      "outputs": []
    },
    {
      "cell_type": "code",
      "source": [
        "def FindFundamentalMatrix(pts1, pts2):\n",
        "    #Input: two lists of corresponding keypoints (numpy arrays of shape (N, 2))\n",
        "    #Output: fundamental matrix (numpy array of shape (3, 3))\n",
        "\n",
        "    #todo: Normalize the points\n",
        "\n",
        "    #todo: Form the matrix A\n",
        "\n",
        "    #todo: Find the fundamental matrix\n",
        "    raise NotImplementedError\n"
      ],
      "metadata": {
        "id": "A9VEjrluK5e1"
      },
      "execution_count": 10,
      "outputs": []
    },
    {
      "cell_type": "code",
      "source": [
        "def FindFundamentalMatrixRansac(pts1, pts2, num_trials = 1000, threshold = 0.01):\n",
        "    #Input: two lists of corresponding keypoints (numpy arrays of shape (N, 2))\n",
        "    #Output: fundamental matrix (numpy array of shape (3, 3))\n",
        "\n",
        "    #todo: Run RANSAC and find the best fundamental matrix\n",
        "    raise NotImplementedError\n"
      ],
      "metadata": {
        "id": "e8Pu6y5wK897"
      },
      "execution_count": 11,
      "outputs": []
    },
    {
      "cell_type": "code",
      "source": [
        "data_path = './data'\n",
        "use_ransac = False\n",
        "\n",
        "#Load images\n",
        "image1_path = os.path.join(data_path, 'myleft.jpg')\n",
        "image2_path = os.path.join(data_path, 'myright.jpg')\n",
        "image1 = np.array(Image.open(image1_path).convert('L'))\n",
        "image2 = np.array(Image.open(image2_path).convert('L'))\n",
        "\n",
        "\n",
        "#Find matching keypoints\n",
        "pts1, pts2 = find_matching_keypoints(image1, image2)\n",
        "\n",
        "#Builtin opencv function for comparison\n",
        "F_true = cv2.findFundamentalMat(pts1, pts2, cv2.FM_8POINT)[0]\n",
        "\n",
        "#todo: FindFundamentalMatrix\n",
        "if use_ransac:\n",
        "    F = FindFundamentalMatrixRansac(pts1, pts2)\n",
        "else:\n",
        "    F = FindFundamentalMatrix(pts1, pts2)\n",
        "\n",
        "# Find epilines corresponding to points in second image,  and draw the lines on first image\n",
        "lines1 = cv2.computeCorrespondEpilines(pts2.reshape(-1, 1, 2), 2, F_true)\n",
        "lines1 = lines1.reshape(-1, 3)\n",
        "img1, img2 = drawlines(image1, image2, lines1, pts1, pts2)\n",
        "fig, axis = plt.subplots(1, 2)\n",
        "\n",
        "axis[0].imshow(img1)\n",
        "axis[0].set_title('Image 1')\n",
        "axis[0].axis('off')\n",
        "axis[1].imshow(img2)\n",
        "axis[1].set_title('Image 2')\n",
        "axis[1].axis('off')\n",
        "\n",
        "plt.show()\n",
        "\n",
        "\n",
        "# Find epilines corresponding to points in first image, and draw the lines on second image\n",
        "lines2 = cv2.computeCorrespondEpilines(pts1.reshape(-1, 1, 2), 1, F_true)\n",
        "lines2 = lines2.reshape(-1, 3)\n",
        "img1, img2 = drawlines(image2, image1, lines2, pts2, pts1)\n",
        "fig, axis = plt.subplots(1, 2)\n",
        "\n",
        "axis[0].imshow(img1)\n",
        "axis[0].set_title('Image 1')\n",
        "axis[0].axis('off')\n",
        "axis[1].imshow(img2)\n",
        "axis[1].set_title('Image 2')\n",
        "axis[1].axis('off')\n",
        "\n",
        "plt.show()"
      ],
      "metadata": {
        "colab": {
          "base_uri": "https://localhost:8080/",
          "height": 357
        },
        "id": "CyDkU1l4Lsas",
        "outputId": "43bd9271-87ac-487c-94ea-af2e517c8e4c"
      },
      "execution_count": 13,
      "outputs": [
        {
          "output_type": "error",
          "ename": "FileNotFoundError",
          "evalue": "ignored",
          "traceback": [
            "\u001b[0;31m---------------------------------------------------------------------------\u001b[0m",
            "\u001b[0;31mFileNotFoundError\u001b[0m                         Traceback (most recent call last)",
            "\u001b[0;32m<ipython-input-13-82f22abfc4c0>\u001b[0m in \u001b[0;36m<module>\u001b[0;34m\u001b[0m\n\u001b[1;32m      5\u001b[0m \u001b[0mimage1_path\u001b[0m \u001b[0;34m=\u001b[0m \u001b[0mos\u001b[0m\u001b[0;34m.\u001b[0m\u001b[0mpath\u001b[0m\u001b[0;34m.\u001b[0m\u001b[0mjoin\u001b[0m\u001b[0;34m(\u001b[0m\u001b[0mdata_path\u001b[0m\u001b[0;34m,\u001b[0m \u001b[0;34m'myleft.jpg'\u001b[0m\u001b[0;34m)\u001b[0m\u001b[0;34m\u001b[0m\u001b[0;34m\u001b[0m\u001b[0m\n\u001b[1;32m      6\u001b[0m \u001b[0mimage2_path\u001b[0m \u001b[0;34m=\u001b[0m \u001b[0mos\u001b[0m\u001b[0;34m.\u001b[0m\u001b[0mpath\u001b[0m\u001b[0;34m.\u001b[0m\u001b[0mjoin\u001b[0m\u001b[0;34m(\u001b[0m\u001b[0mdata_path\u001b[0m\u001b[0;34m,\u001b[0m \u001b[0;34m'myright.jpg'\u001b[0m\u001b[0;34m)\u001b[0m\u001b[0;34m\u001b[0m\u001b[0;34m\u001b[0m\u001b[0m\n\u001b[0;32m----> 7\u001b[0;31m \u001b[0mimage1\u001b[0m \u001b[0;34m=\u001b[0m \u001b[0mnp\u001b[0m\u001b[0;34m.\u001b[0m\u001b[0marray\u001b[0m\u001b[0;34m(\u001b[0m\u001b[0mImage\u001b[0m\u001b[0;34m.\u001b[0m\u001b[0mopen\u001b[0m\u001b[0;34m(\u001b[0m\u001b[0mimage1_path\u001b[0m\u001b[0;34m)\u001b[0m\u001b[0;34m.\u001b[0m\u001b[0mconvert\u001b[0m\u001b[0;34m(\u001b[0m\u001b[0;34m'L'\u001b[0m\u001b[0;34m)\u001b[0m\u001b[0;34m)\u001b[0m\u001b[0;34m\u001b[0m\u001b[0;34m\u001b[0m\u001b[0m\n\u001b[0m\u001b[1;32m      8\u001b[0m \u001b[0mimage2\u001b[0m \u001b[0;34m=\u001b[0m \u001b[0mnp\u001b[0m\u001b[0;34m.\u001b[0m\u001b[0marray\u001b[0m\u001b[0;34m(\u001b[0m\u001b[0mImage\u001b[0m\u001b[0;34m.\u001b[0m\u001b[0mopen\u001b[0m\u001b[0;34m(\u001b[0m\u001b[0mimage2_path\u001b[0m\u001b[0;34m)\u001b[0m\u001b[0;34m.\u001b[0m\u001b[0mconvert\u001b[0m\u001b[0;34m(\u001b[0m\u001b[0;34m'L'\u001b[0m\u001b[0;34m)\u001b[0m\u001b[0;34m)\u001b[0m\u001b[0;34m\u001b[0m\u001b[0;34m\u001b[0m\u001b[0m\n\u001b[1;32m      9\u001b[0m \u001b[0;34m\u001b[0m\u001b[0m\n",
            "\u001b[0;32m/usr/local/lib/python3.7/dist-packages/PIL/Image.py\u001b[0m in \u001b[0;36mopen\u001b[0;34m(fp, mode)\u001b[0m\n\u001b[1;32m   2841\u001b[0m \u001b[0;34m\u001b[0m\u001b[0m\n\u001b[1;32m   2842\u001b[0m     \u001b[0;32mif\u001b[0m \u001b[0mfilename\u001b[0m\u001b[0;34m:\u001b[0m\u001b[0;34m\u001b[0m\u001b[0;34m\u001b[0m\u001b[0m\n\u001b[0;32m-> 2843\u001b[0;31m         \u001b[0mfp\u001b[0m \u001b[0;34m=\u001b[0m \u001b[0mbuiltins\u001b[0m\u001b[0;34m.\u001b[0m\u001b[0mopen\u001b[0m\u001b[0;34m(\u001b[0m\u001b[0mfilename\u001b[0m\u001b[0;34m,\u001b[0m \u001b[0;34m\"rb\"\u001b[0m\u001b[0;34m)\u001b[0m\u001b[0;34m\u001b[0m\u001b[0;34m\u001b[0m\u001b[0m\n\u001b[0m\u001b[1;32m   2844\u001b[0m         \u001b[0mexclusive_fp\u001b[0m \u001b[0;34m=\u001b[0m \u001b[0;32mTrue\u001b[0m\u001b[0;34m\u001b[0m\u001b[0;34m\u001b[0m\u001b[0m\n\u001b[1;32m   2845\u001b[0m \u001b[0;34m\u001b[0m\u001b[0m\n",
            "\u001b[0;31mFileNotFoundError\u001b[0m: [Errno 2] No such file or directory: './data/myleft.jpg'"
          ]
        }
      ]
    }
  ]
}